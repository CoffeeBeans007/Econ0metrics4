{
 "cells": [
  {
   "cell_type": "code",
   "execution_count": 28,
   "metadata": {},
   "outputs": [],
   "source": [
    "import pandas as pd\n",
    "import numpy as np\n",
    "from sklearn import linear_model\n",
    "import statsmodels.api as sm\n",
    "from math import log"
   ]
  },
  {
   "cell_type": "code",
   "execution_count": 29,
   "metadata": {},
   "outputs": [],
   "source": [
    "#import documents\n",
    "df=pd.read_csv(\"world-happiness-report-2021.csv\")\n",
    "df1=pd.read_csv(\"world-happiness-report.csv\")\n",
    "df1=df1.dropna()"
   ]
  },
  {
   "cell_type": "code",
   "execution_count": 30,
   "metadata": {},
   "outputs": [],
   "source": [
    "newdf= {\n",
    "    \"ladder\": np.array(df1[\"Life Ladder\"]),\n",
    "    \"loggedgdp\": np.array(df1[\"Log GDP per capita\"]),\n",
    "    \"healthy\": np.array(df1[\"Healthy life expectancy at birth\"]),\n",
    "    \"freedom\": np.array(df1[\"Freedom to make life choices\"]),\n",
    "    \"corruption\": np.array(df1[\"Perceptions of corruption\"]),\n",
    "    \"Social supp\": np.array(df1[\"Social support\"])\n",
    "}"
   ]
  },
  {
   "cell_type": "code",
   "execution_count": null,
   "metadata": {},
   "outputs": [],
   "source": [
    "#Regression list\n",
    "newdf=pd.DataFrame(newdf)\n",
    "regx=newdf[[\"ladder\",\"healthy\",\"freedom\",\"corruption\",\"Social supp\"]]\n",
    "y=newdf[\"loggedgdp\"]\n",
    "df\n",
    "\n"
   ]
  },
  {
   "cell_type": "code",
   "execution_count": null,
   "metadata": {},
   "outputs": [
    {
     "name": "stdout",
     "output_type": "stream",
     "text": [
      "                            OLS Regression Results                            \n",
      "==============================================================================\n",
      "Dep. Variable:              loggedgdp   R-squared:                       0.813\n",
      "Model:                            OLS   Adj. R-squared:                  0.812\n",
      "Method:                 Least Squares   F-statistic:                     1480.\n",
      "Date:                Tue, 29 Nov 2022   Prob (F-statistic):               0.00\n",
      "Time:                        16:42:58   Log-Likelihood:                -1242.4\n",
      "No. Observations:                1708   AIC:                             2497.\n",
      "Df Residuals:                    1702   BIC:                             2529.\n",
      "Df Model:                           5                                         \n",
      "Covariance Type:            nonrobust                                         \n",
      "===============================================================================\n",
      "                  coef    std err          t      P>|t|      [0.025      0.975]\n",
      "-------------------------------------------------------------------------------\n",
      "const           1.7450      0.153     11.419      0.000       1.445       2.045\n",
      "ladder          0.2537      0.020     12.562      0.000       0.214       0.293\n",
      "healthy         0.0855      0.002     34.944      0.000       0.081       0.090\n",
      "freedom        -0.8496      0.107     -7.959      0.000      -1.059      -0.640\n",
      "corruption     -0.2808      0.079     -3.566      0.000      -0.435      -0.126\n",
      "Social supp     2.0091      0.147     13.633      0.000       1.720       2.298\n",
      "==============================================================================\n",
      "Omnibus:                        9.210   Durbin-Watson:                   0.341\n",
      "Prob(Omnibus):                  0.010   Jarque-Bera (JB):               12.210\n",
      "Skew:                          -0.026   Prob(JB):                      0.00223\n",
      "Kurtosis:                       3.411   Cond. No.                         910.\n",
      "==============================================================================\n",
      "\n",
      "Warnings:\n",
      "[1] Standard Errors assume that the covariance matrix of the errors is correctly specified.\n"
     ]
    }
   ],
   "source": [
    "#New regression\n",
    "x=sm.add_constant(regx)\n",
    "model=sm.OLS(y,x).fit()\n",
    "prediction=model.predict(x)\n",
    "\n",
    "print(model.summary())"
   ]
  }
 ],
 "metadata": {
  "kernelspec": {
   "display_name": "Python 3.7.6 ('base')",
   "language": "python",
   "name": "python3"
  },
  "language_info": {
   "codemirror_mode": {
    "name": "ipython",
    "version": 3
   },
   "file_extension": ".py",
   "mimetype": "text/x-python",
   "name": "python",
   "nbconvert_exporter": "python",
   "pygments_lexer": "ipython3",
   "version": "3.7.6"
  },
  "orig_nbformat": 4,
  "vscode": {
   "interpreter": {
    "hash": "66da0c33a857e10d5d292f4bf7fbb06525108e932065956ff75ee63f89e61a86"
   }
  }
 },
 "nbformat": 4,
 "nbformat_minor": 2
}
